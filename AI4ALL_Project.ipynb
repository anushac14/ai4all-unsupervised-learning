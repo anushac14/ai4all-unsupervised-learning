{
  "cells": [
    {
      "cell_type": "markdown",
      "metadata": {
        "id": "view-in-github",
        "colab_type": "text"
      },
      "source": [
        "<a href=\"https://colab.research.google.com/github/anushac14/ai4all-unsupervised-learning/blob/main/AI4ALL_Project.ipynb\" target=\"_parent\"><img src=\"https://colab.research.google.com/assets/colab-badge.svg\" alt=\"Open In Colab\"/></a>"
      ]
    },
    {
      "cell_type": "code",
      "execution_count": 1,
      "metadata": {
        "id": "8QH0i2Fsl-M7"
      },
      "outputs": [],
      "source": [
        "import pandas as pd\n",
        "from sklearn.preprocessing import StandardScaler,LabelEncoder,OneHotEncoder\n",
        "from sklearn.impute import SimpleImputer\n",
        "import numpy as np\n",
        "from sklearn.feature_extraction.text import TfidfVectorizer"
      ]
    },
    {
      "cell_type": "code",
      "execution_count": 2,
      "metadata": {
        "id": "4jUMCG67xAPU"
      },
      "outputs": [],
      "source": [
        "df=pd.read_csv('/content/drive/MyDrive/data.csv')"
      ]
    },
    {
      "cell_type": "code",
      "execution_count": 3,
      "metadata": {
        "colab": {
          "base_uri": "https://localhost:8080/",
          "height": 724
        },
        "id": "_3niE8pkyTt9",
        "outputId": "dd40a9d6-a238-4034-dc47-6e3c050ec38a"
      },
      "outputs": [
        {
          "output_type": "execute_result",
          "data": {
            "text/plain": [
              "                            Uniq Id  \\\n",
              "0  4c69b61db1fc16e7013b43fc926e502d   \n",
              "1  66d49bbed043f5be260fa9f7fbff5957   \n",
              "2  2c55cae269aebf53838484b0d7dd931a   \n",
              "3  18018b6bc416dab347b1b7db79994afa   \n",
              "4  e04b990e95bf73bbe6a3fa09785d7cd0   \n",
              "\n",
              "                                        Product Name  Brand Name  Asin  \\\n",
              "0  DB Longboards CoreFlex Crossbow 41\" Bamboo Fib...         NaN   NaN   \n",
              "1  Electronic Snap Circuits Mini Kits Classpack, ...         NaN   NaN   \n",
              "2  3Doodler Create Flexy 3D Printing Filament Ref...         NaN   NaN   \n",
              "3  Guillow Airplane Design Studio with Travel Cas...         NaN   NaN   \n",
              "4                   Woodstock- Collage 500 pc Puzzle         NaN   NaN   \n",
              "\n",
              "                                            Category Upc Ean Code  List Price  \\\n",
              "0  Sports & Outdoors | Outdoor Recreation | Skate...          NaN         NaN   \n",
              "1  Toys & Games | Learning & Education | Science ...          NaN         NaN   \n",
              "2          Toys & Games | Arts & Crafts | Craft Kits          NaN         NaN   \n",
              "3  Toys & Games | Hobbies | Models & Model Kits |...          NaN         NaN   \n",
              "4            Toys & Games | Puzzles | Jigsaw Puzzles          NaN         NaN   \n",
              "\n",
              "  Selling Price  Quantity Model Number  ...  \\\n",
              "0       $237.68       NaN          NaN  ...   \n",
              "1        $99.95       NaN        55324  ...   \n",
              "2        $34.99       NaN          NaN  ...   \n",
              "3        $28.91       NaN          142  ...   \n",
              "4        $17.49       NaN        62151  ...   \n",
              "\n",
              "                                         Product Url Stock Product Details  \\\n",
              "0  https://www.amazon.com/DB-Longboards-CoreFlex-...   NaN             NaN   \n",
              "1  https://www.amazon.com/Electronic-Circuits-Cla...   NaN             NaN   \n",
              "2  https://www.amazon.com/3Doodler-Plastic-Innova...   NaN             NaN   \n",
              "3  https://www.amazon.com/Guillow-Airplane-Design...   NaN             NaN   \n",
              "4  https://www.amazon.com/Woodstock-Collage-500-p...   NaN             NaN   \n",
              "\n",
              "  Dimensions Color Ingredients Direction To Use  Is Amazon Seller  \\\n",
              "0        NaN   NaN         NaN              NaN                 Y   \n",
              "1        NaN   NaN         NaN              NaN                 Y   \n",
              "2        NaN   NaN         NaN              NaN                 Y   \n",
              "3        NaN   NaN         NaN              NaN                 Y   \n",
              "4        NaN   NaN         NaN              NaN                 Y   \n",
              "\n",
              "  Size Quantity Variant  Product Description  \n",
              "0                   NaN                  NaN  \n",
              "1                   NaN                  NaN  \n",
              "2                   NaN                  NaN  \n",
              "3                   NaN                  NaN  \n",
              "4                   NaN                  NaN  \n",
              "\n",
              "[5 rows x 28 columns]"
            ],
            "text/html": [
              "\n",
              "  <div id=\"df-56e4943b-e425-4052-b280-ada3a3460e4e\" class=\"colab-df-container\">\n",
              "    <div>\n",
              "<style scoped>\n",
              "    .dataframe tbody tr th:only-of-type {\n",
              "        vertical-align: middle;\n",
              "    }\n",
              "\n",
              "    .dataframe tbody tr th {\n",
              "        vertical-align: top;\n",
              "    }\n",
              "\n",
              "    .dataframe thead th {\n",
              "        text-align: right;\n",
              "    }\n",
              "</style>\n",
              "<table border=\"1\" class=\"dataframe\">\n",
              "  <thead>\n",
              "    <tr style=\"text-align: right;\">\n",
              "      <th></th>\n",
              "      <th>Uniq Id</th>\n",
              "      <th>Product Name</th>\n",
              "      <th>Brand Name</th>\n",
              "      <th>Asin</th>\n",
              "      <th>Category</th>\n",
              "      <th>Upc Ean Code</th>\n",
              "      <th>List Price</th>\n",
              "      <th>Selling Price</th>\n",
              "      <th>Quantity</th>\n",
              "      <th>Model Number</th>\n",
              "      <th>...</th>\n",
              "      <th>Product Url</th>\n",
              "      <th>Stock</th>\n",
              "      <th>Product Details</th>\n",
              "      <th>Dimensions</th>\n",
              "      <th>Color</th>\n",
              "      <th>Ingredients</th>\n",
              "      <th>Direction To Use</th>\n",
              "      <th>Is Amazon Seller</th>\n",
              "      <th>Size Quantity Variant</th>\n",
              "      <th>Product Description</th>\n",
              "    </tr>\n",
              "  </thead>\n",
              "  <tbody>\n",
              "    <tr>\n",
              "      <th>0</th>\n",
              "      <td>4c69b61db1fc16e7013b43fc926e502d</td>\n",
              "      <td>DB Longboards CoreFlex Crossbow 41\" Bamboo Fib...</td>\n",
              "      <td>NaN</td>\n",
              "      <td>NaN</td>\n",
              "      <td>Sports &amp; Outdoors | Outdoor Recreation | Skate...</td>\n",
              "      <td>NaN</td>\n",
              "      <td>NaN</td>\n",
              "      <td>$237.68</td>\n",
              "      <td>NaN</td>\n",
              "      <td>NaN</td>\n",
              "      <td>...</td>\n",
              "      <td>https://www.amazon.com/DB-Longboards-CoreFlex-...</td>\n",
              "      <td>NaN</td>\n",
              "      <td>NaN</td>\n",
              "      <td>NaN</td>\n",
              "      <td>NaN</td>\n",
              "      <td>NaN</td>\n",
              "      <td>NaN</td>\n",
              "      <td>Y</td>\n",
              "      <td>NaN</td>\n",
              "      <td>NaN</td>\n",
              "    </tr>\n",
              "    <tr>\n",
              "      <th>1</th>\n",
              "      <td>66d49bbed043f5be260fa9f7fbff5957</td>\n",
              "      <td>Electronic Snap Circuits Mini Kits Classpack, ...</td>\n",
              "      <td>NaN</td>\n",
              "      <td>NaN</td>\n",
              "      <td>Toys &amp; Games | Learning &amp; Education | Science ...</td>\n",
              "      <td>NaN</td>\n",
              "      <td>NaN</td>\n",
              "      <td>$99.95</td>\n",
              "      <td>NaN</td>\n",
              "      <td>55324</td>\n",
              "      <td>...</td>\n",
              "      <td>https://www.amazon.com/Electronic-Circuits-Cla...</td>\n",
              "      <td>NaN</td>\n",
              "      <td>NaN</td>\n",
              "      <td>NaN</td>\n",
              "      <td>NaN</td>\n",
              "      <td>NaN</td>\n",
              "      <td>NaN</td>\n",
              "      <td>Y</td>\n",
              "      <td>NaN</td>\n",
              "      <td>NaN</td>\n",
              "    </tr>\n",
              "    <tr>\n",
              "      <th>2</th>\n",
              "      <td>2c55cae269aebf53838484b0d7dd931a</td>\n",
              "      <td>3Doodler Create Flexy 3D Printing Filament Ref...</td>\n",
              "      <td>NaN</td>\n",
              "      <td>NaN</td>\n",
              "      <td>Toys &amp; Games | Arts &amp; Crafts | Craft Kits</td>\n",
              "      <td>NaN</td>\n",
              "      <td>NaN</td>\n",
              "      <td>$34.99</td>\n",
              "      <td>NaN</td>\n",
              "      <td>NaN</td>\n",
              "      <td>...</td>\n",
              "      <td>https://www.amazon.com/3Doodler-Plastic-Innova...</td>\n",
              "      <td>NaN</td>\n",
              "      <td>NaN</td>\n",
              "      <td>NaN</td>\n",
              "      <td>NaN</td>\n",
              "      <td>NaN</td>\n",
              "      <td>NaN</td>\n",
              "      <td>Y</td>\n",
              "      <td>NaN</td>\n",
              "      <td>NaN</td>\n",
              "    </tr>\n",
              "    <tr>\n",
              "      <th>3</th>\n",
              "      <td>18018b6bc416dab347b1b7db79994afa</td>\n",
              "      <td>Guillow Airplane Design Studio with Travel Cas...</td>\n",
              "      <td>NaN</td>\n",
              "      <td>NaN</td>\n",
              "      <td>Toys &amp; Games | Hobbies | Models &amp; Model Kits |...</td>\n",
              "      <td>NaN</td>\n",
              "      <td>NaN</td>\n",
              "      <td>$28.91</td>\n",
              "      <td>NaN</td>\n",
              "      <td>142</td>\n",
              "      <td>...</td>\n",
              "      <td>https://www.amazon.com/Guillow-Airplane-Design...</td>\n",
              "      <td>NaN</td>\n",
              "      <td>NaN</td>\n",
              "      <td>NaN</td>\n",
              "      <td>NaN</td>\n",
              "      <td>NaN</td>\n",
              "      <td>NaN</td>\n",
              "      <td>Y</td>\n",
              "      <td>NaN</td>\n",
              "      <td>NaN</td>\n",
              "    </tr>\n",
              "    <tr>\n",
              "      <th>4</th>\n",
              "      <td>e04b990e95bf73bbe6a3fa09785d7cd0</td>\n",
              "      <td>Woodstock- Collage 500 pc Puzzle</td>\n",
              "      <td>NaN</td>\n",
              "      <td>NaN</td>\n",
              "      <td>Toys &amp; Games | Puzzles | Jigsaw Puzzles</td>\n",
              "      <td>NaN</td>\n",
              "      <td>NaN</td>\n",
              "      <td>$17.49</td>\n",
              "      <td>NaN</td>\n",
              "      <td>62151</td>\n",
              "      <td>...</td>\n",
              "      <td>https://www.amazon.com/Woodstock-Collage-500-p...</td>\n",
              "      <td>NaN</td>\n",
              "      <td>NaN</td>\n",
              "      <td>NaN</td>\n",
              "      <td>NaN</td>\n",
              "      <td>NaN</td>\n",
              "      <td>NaN</td>\n",
              "      <td>Y</td>\n",
              "      <td>NaN</td>\n",
              "      <td>NaN</td>\n",
              "    </tr>\n",
              "  </tbody>\n",
              "</table>\n",
              "<p>5 rows × 28 columns</p>\n",
              "</div>\n",
              "    <div class=\"colab-df-buttons\">\n",
              "\n",
              "  <div class=\"colab-df-container\">\n",
              "    <button class=\"colab-df-convert\" onclick=\"convertToInteractive('df-56e4943b-e425-4052-b280-ada3a3460e4e')\"\n",
              "            title=\"Convert this dataframe to an interactive table.\"\n",
              "            style=\"display:none;\">\n",
              "\n",
              "  <svg xmlns=\"http://www.w3.org/2000/svg\" height=\"24px\" viewBox=\"0 -960 960 960\">\n",
              "    <path d=\"M120-120v-720h720v720H120Zm60-500h600v-160H180v160Zm220 220h160v-160H400v160Zm0 220h160v-160H400v160ZM180-400h160v-160H180v160Zm440 0h160v-160H620v160ZM180-180h160v-160H180v160Zm440 0h160v-160H620v160Z\"/>\n",
              "  </svg>\n",
              "    </button>\n",
              "\n",
              "  <style>\n",
              "    .colab-df-container {\n",
              "      display:flex;\n",
              "      gap: 12px;\n",
              "    }\n",
              "\n",
              "    .colab-df-convert {\n",
              "      background-color: #E8F0FE;\n",
              "      border: none;\n",
              "      border-radius: 50%;\n",
              "      cursor: pointer;\n",
              "      display: none;\n",
              "      fill: #1967D2;\n",
              "      height: 32px;\n",
              "      padding: 0 0 0 0;\n",
              "      width: 32px;\n",
              "    }\n",
              "\n",
              "    .colab-df-convert:hover {\n",
              "      background-color: #E2EBFA;\n",
              "      box-shadow: 0px 1px 2px rgba(60, 64, 67, 0.3), 0px 1px 3px 1px rgba(60, 64, 67, 0.15);\n",
              "      fill: #174EA6;\n",
              "    }\n",
              "\n",
              "    .colab-df-buttons div {\n",
              "      margin-bottom: 4px;\n",
              "    }\n",
              "\n",
              "    [theme=dark] .colab-df-convert {\n",
              "      background-color: #3B4455;\n",
              "      fill: #D2E3FC;\n",
              "    }\n",
              "\n",
              "    [theme=dark] .colab-df-convert:hover {\n",
              "      background-color: #434B5C;\n",
              "      box-shadow: 0px 1px 3px 1px rgba(0, 0, 0, 0.15);\n",
              "      filter: drop-shadow(0px 1px 2px rgba(0, 0, 0, 0.3));\n",
              "      fill: #FFFFFF;\n",
              "    }\n",
              "  </style>\n",
              "\n",
              "    <script>\n",
              "      const buttonEl =\n",
              "        document.querySelector('#df-56e4943b-e425-4052-b280-ada3a3460e4e button.colab-df-convert');\n",
              "      buttonEl.style.display =\n",
              "        google.colab.kernel.accessAllowed ? 'block' : 'none';\n",
              "\n",
              "      async function convertToInteractive(key) {\n",
              "        const element = document.querySelector('#df-56e4943b-e425-4052-b280-ada3a3460e4e');\n",
              "        const dataTable =\n",
              "          await google.colab.kernel.invokeFunction('convertToInteractive',\n",
              "                                                    [key], {});\n",
              "        if (!dataTable) return;\n",
              "\n",
              "        const docLinkHtml = 'Like what you see? Visit the ' +\n",
              "          '<a target=\"_blank\" href=https://colab.research.google.com/notebooks/data_table.ipynb>data table notebook</a>'\n",
              "          + ' to learn more about interactive tables.';\n",
              "        element.innerHTML = '';\n",
              "        dataTable['output_type'] = 'display_data';\n",
              "        await google.colab.output.renderOutput(dataTable, element);\n",
              "        const docLink = document.createElement('div');\n",
              "        docLink.innerHTML = docLinkHtml;\n",
              "        element.appendChild(docLink);\n",
              "      }\n",
              "    </script>\n",
              "  </div>\n",
              "\n",
              "\n",
              "<div id=\"df-97e26001-533e-454c-95fc-5abd606e32d5\">\n",
              "  <button class=\"colab-df-quickchart\" onclick=\"quickchart('df-97e26001-533e-454c-95fc-5abd606e32d5')\"\n",
              "            title=\"Suggest charts\"\n",
              "            style=\"display:none;\">\n",
              "\n",
              "<svg xmlns=\"http://www.w3.org/2000/svg\" height=\"24px\"viewBox=\"0 0 24 24\"\n",
              "     width=\"24px\">\n",
              "    <g>\n",
              "        <path d=\"M19 3H5c-1.1 0-2 .9-2 2v14c0 1.1.9 2 2 2h14c1.1 0 2-.9 2-2V5c0-1.1-.9-2-2-2zM9 17H7v-7h2v7zm4 0h-2V7h2v10zm4 0h-2v-4h2v4z\"/>\n",
              "    </g>\n",
              "</svg>\n",
              "  </button>\n",
              "\n",
              "<style>\n",
              "  .colab-df-quickchart {\n",
              "      --bg-color: #E8F0FE;\n",
              "      --fill-color: #1967D2;\n",
              "      --hover-bg-color: #E2EBFA;\n",
              "      --hover-fill-color: #174EA6;\n",
              "      --disabled-fill-color: #AAA;\n",
              "      --disabled-bg-color: #DDD;\n",
              "  }\n",
              "\n",
              "  [theme=dark] .colab-df-quickchart {\n",
              "      --bg-color: #3B4455;\n",
              "      --fill-color: #D2E3FC;\n",
              "      --hover-bg-color: #434B5C;\n",
              "      --hover-fill-color: #FFFFFF;\n",
              "      --disabled-bg-color: #3B4455;\n",
              "      --disabled-fill-color: #666;\n",
              "  }\n",
              "\n",
              "  .colab-df-quickchart {\n",
              "    background-color: var(--bg-color);\n",
              "    border: none;\n",
              "    border-radius: 50%;\n",
              "    cursor: pointer;\n",
              "    display: none;\n",
              "    fill: var(--fill-color);\n",
              "    height: 32px;\n",
              "    padding: 0;\n",
              "    width: 32px;\n",
              "  }\n",
              "\n",
              "  .colab-df-quickchart:hover {\n",
              "    background-color: var(--hover-bg-color);\n",
              "    box-shadow: 0 1px 2px rgba(60, 64, 67, 0.3), 0 1px 3px 1px rgba(60, 64, 67, 0.15);\n",
              "    fill: var(--button-hover-fill-color);\n",
              "  }\n",
              "\n",
              "  .colab-df-quickchart-complete:disabled,\n",
              "  .colab-df-quickchart-complete:disabled:hover {\n",
              "    background-color: var(--disabled-bg-color);\n",
              "    fill: var(--disabled-fill-color);\n",
              "    box-shadow: none;\n",
              "  }\n",
              "\n",
              "  .colab-df-spinner {\n",
              "    border: 2px solid var(--fill-color);\n",
              "    border-color: transparent;\n",
              "    border-bottom-color: var(--fill-color);\n",
              "    animation:\n",
              "      spin 1s steps(1) infinite;\n",
              "  }\n",
              "\n",
              "  @keyframes spin {\n",
              "    0% {\n",
              "      border-color: transparent;\n",
              "      border-bottom-color: var(--fill-color);\n",
              "      border-left-color: var(--fill-color);\n",
              "    }\n",
              "    20% {\n",
              "      border-color: transparent;\n",
              "      border-left-color: var(--fill-color);\n",
              "      border-top-color: var(--fill-color);\n",
              "    }\n",
              "    30% {\n",
              "      border-color: transparent;\n",
              "      border-left-color: var(--fill-color);\n",
              "      border-top-color: var(--fill-color);\n",
              "      border-right-color: var(--fill-color);\n",
              "    }\n",
              "    40% {\n",
              "      border-color: transparent;\n",
              "      border-right-color: var(--fill-color);\n",
              "      border-top-color: var(--fill-color);\n",
              "    }\n",
              "    60% {\n",
              "      border-color: transparent;\n",
              "      border-right-color: var(--fill-color);\n",
              "    }\n",
              "    80% {\n",
              "      border-color: transparent;\n",
              "      border-right-color: var(--fill-color);\n",
              "      border-bottom-color: var(--fill-color);\n",
              "    }\n",
              "    90% {\n",
              "      border-color: transparent;\n",
              "      border-bottom-color: var(--fill-color);\n",
              "    }\n",
              "  }\n",
              "</style>\n",
              "\n",
              "  <script>\n",
              "    async function quickchart(key) {\n",
              "      const quickchartButtonEl =\n",
              "        document.querySelector('#' + key + ' button');\n",
              "      quickchartButtonEl.disabled = true;  // To prevent multiple clicks.\n",
              "      quickchartButtonEl.classList.add('colab-df-spinner');\n",
              "      try {\n",
              "        const charts = await google.colab.kernel.invokeFunction(\n",
              "            'suggestCharts', [key], {});\n",
              "      } catch (error) {\n",
              "        console.error('Error during call to suggestCharts:', error);\n",
              "      }\n",
              "      quickchartButtonEl.classList.remove('colab-df-spinner');\n",
              "      quickchartButtonEl.classList.add('colab-df-quickchart-complete');\n",
              "    }\n",
              "    (() => {\n",
              "      let quickchartButtonEl =\n",
              "        document.querySelector('#df-97e26001-533e-454c-95fc-5abd606e32d5 button');\n",
              "      quickchartButtonEl.style.display =\n",
              "        google.colab.kernel.accessAllowed ? 'block' : 'none';\n",
              "    })();\n",
              "  </script>\n",
              "</div>\n",
              "\n",
              "    </div>\n",
              "  </div>\n"
            ],
            "application/vnd.google.colaboratory.intrinsic+json": {
              "type": "dataframe",
              "variable_name": "df"
            }
          },
          "metadata": {},
          "execution_count": 3
        }
      ],
      "source": [
        "df.head(5)"
      ]
    },
    {
      "cell_type": "code",
      "execution_count": 4,
      "metadata": {
        "colab": {
          "base_uri": "https://localhost:8080/"
        },
        "id": "YrWePGb9npA9",
        "outputId": "6473a993-3dcb-4ac3-da7c-450559fd4a7a"
      },
      "outputs": [
        {
          "output_type": "execute_result",
          "data": {
            "text/plain": [
              "(10002, 28)"
            ]
          },
          "metadata": {},
          "execution_count": 4
        }
      ],
      "source": [
        "df.shape"
      ]
    },
    {
      "cell_type": "code",
      "execution_count": 5,
      "metadata": {
        "colab": {
          "base_uri": "https://localhost:8080/"
        },
        "id": "9Qk5pzYBC7Gr",
        "outputId": "6fd57058-a342-4d5d-a5f9-48482d14c560"
      },
      "outputs": [
        {
          "output_type": "execute_result",
          "data": {
            "text/plain": [
              "Index(['Uniq Id', 'Product Name', 'Brand Name', 'Asin', 'Category',\n",
              "       'Upc Ean Code', 'List Price', 'Selling Price', 'Quantity',\n",
              "       'Model Number', 'About Product', 'Product Specification',\n",
              "       'Technical Details', 'Shipping Weight', 'Product Dimensions', 'Image',\n",
              "       'Variants', 'Sku', 'Product Url', 'Stock', 'Product Details',\n",
              "       'Dimensions', 'Color', 'Ingredients', 'Direction To Use',\n",
              "       'Is Amazon Seller', 'Size Quantity Variant', 'Product Description'],\n",
              "      dtype='object')"
            ]
          },
          "metadata": {},
          "execution_count": 5
        }
      ],
      "source": [
        "df.columns"
      ]
    },
    {
      "cell_type": "code",
      "execution_count": 6,
      "metadata": {
        "colab": {
          "base_uri": "https://localhost:8080/",
          "height": 962
        },
        "id": "ZxKRHMB0X03I",
        "outputId": "cbcc43fa-1c08-4fda-a9e9-ec1c1ebd9d4b"
      },
      "outputs": [
        {
          "output_type": "execute_result",
          "data": {
            "text/plain": [
              "Uniq Id                      0\n",
              "Product Name                 0\n",
              "Brand Name               10002\n",
              "Asin                     10002\n",
              "Category                   830\n",
              "Upc Ean Code              9968\n",
              "List Price               10002\n",
              "Selling Price              107\n",
              "Quantity                 10002\n",
              "Model Number              1772\n",
              "About Product              273\n",
              "Product Specification     1632\n",
              "Technical Details          790\n",
              "Shipping Weight           1138\n",
              "Product Dimensions        9523\n",
              "Image                        0\n",
              "Variants                  7524\n",
              "Sku                      10002\n",
              "Product Url                  0\n",
              "Stock                    10002\n",
              "Product Details          10002\n",
              "Dimensions               10002\n",
              "Color                    10002\n",
              "Ingredients              10002\n",
              "Direction To Use         10002\n",
              "Is Amazon Seller             0\n",
              "Size Quantity Variant    10002\n",
              "Product Description      10002\n",
              "dtype: int64"
            ],
            "text/html": [
              "<div>\n",
              "<style scoped>\n",
              "    .dataframe tbody tr th:only-of-type {\n",
              "        vertical-align: middle;\n",
              "    }\n",
              "\n",
              "    .dataframe tbody tr th {\n",
              "        vertical-align: top;\n",
              "    }\n",
              "\n",
              "    .dataframe thead th {\n",
              "        text-align: right;\n",
              "    }\n",
              "</style>\n",
              "<table border=\"1\" class=\"dataframe\">\n",
              "  <thead>\n",
              "    <tr style=\"text-align: right;\">\n",
              "      <th></th>\n",
              "      <th>0</th>\n",
              "    </tr>\n",
              "  </thead>\n",
              "  <tbody>\n",
              "    <tr>\n",
              "      <th>Uniq Id</th>\n",
              "      <td>0</td>\n",
              "    </tr>\n",
              "    <tr>\n",
              "      <th>Product Name</th>\n",
              "      <td>0</td>\n",
              "    </tr>\n",
              "    <tr>\n",
              "      <th>Brand Name</th>\n",
              "      <td>10002</td>\n",
              "    </tr>\n",
              "    <tr>\n",
              "      <th>Asin</th>\n",
              "      <td>10002</td>\n",
              "    </tr>\n",
              "    <tr>\n",
              "      <th>Category</th>\n",
              "      <td>830</td>\n",
              "    </tr>\n",
              "    <tr>\n",
              "      <th>Upc Ean Code</th>\n",
              "      <td>9968</td>\n",
              "    </tr>\n",
              "    <tr>\n",
              "      <th>List Price</th>\n",
              "      <td>10002</td>\n",
              "    </tr>\n",
              "    <tr>\n",
              "      <th>Selling Price</th>\n",
              "      <td>107</td>\n",
              "    </tr>\n",
              "    <tr>\n",
              "      <th>Quantity</th>\n",
              "      <td>10002</td>\n",
              "    </tr>\n",
              "    <tr>\n",
              "      <th>Model Number</th>\n",
              "      <td>1772</td>\n",
              "    </tr>\n",
              "    <tr>\n",
              "      <th>About Product</th>\n",
              "      <td>273</td>\n",
              "    </tr>\n",
              "    <tr>\n",
              "      <th>Product Specification</th>\n",
              "      <td>1632</td>\n",
              "    </tr>\n",
              "    <tr>\n",
              "      <th>Technical Details</th>\n",
              "      <td>790</td>\n",
              "    </tr>\n",
              "    <tr>\n",
              "      <th>Shipping Weight</th>\n",
              "      <td>1138</td>\n",
              "    </tr>\n",
              "    <tr>\n",
              "      <th>Product Dimensions</th>\n",
              "      <td>9523</td>\n",
              "    </tr>\n",
              "    <tr>\n",
              "      <th>Image</th>\n",
              "      <td>0</td>\n",
              "    </tr>\n",
              "    <tr>\n",
              "      <th>Variants</th>\n",
              "      <td>7524</td>\n",
              "    </tr>\n",
              "    <tr>\n",
              "      <th>Sku</th>\n",
              "      <td>10002</td>\n",
              "    </tr>\n",
              "    <tr>\n",
              "      <th>Product Url</th>\n",
              "      <td>0</td>\n",
              "    </tr>\n",
              "    <tr>\n",
              "      <th>Stock</th>\n",
              "      <td>10002</td>\n",
              "    </tr>\n",
              "    <tr>\n",
              "      <th>Product Details</th>\n",
              "      <td>10002</td>\n",
              "    </tr>\n",
              "    <tr>\n",
              "      <th>Dimensions</th>\n",
              "      <td>10002</td>\n",
              "    </tr>\n",
              "    <tr>\n",
              "      <th>Color</th>\n",
              "      <td>10002</td>\n",
              "    </tr>\n",
              "    <tr>\n",
              "      <th>Ingredients</th>\n",
              "      <td>10002</td>\n",
              "    </tr>\n",
              "    <tr>\n",
              "      <th>Direction To Use</th>\n",
              "      <td>10002</td>\n",
              "    </tr>\n",
              "    <tr>\n",
              "      <th>Is Amazon Seller</th>\n",
              "      <td>0</td>\n",
              "    </tr>\n",
              "    <tr>\n",
              "      <th>Size Quantity Variant</th>\n",
              "      <td>10002</td>\n",
              "    </tr>\n",
              "    <tr>\n",
              "      <th>Product Description</th>\n",
              "      <td>10002</td>\n",
              "    </tr>\n",
              "  </tbody>\n",
              "</table>\n",
              "</div><br><label><b>dtype:</b> int64</label>"
            ]
          },
          "metadata": {},
          "execution_count": 6
        }
      ],
      "source": [
        "df.isna().sum()"
      ]
    },
    {
      "cell_type": "code",
      "execution_count": 7,
      "metadata": {
        "colab": {
          "base_uri": "https://localhost:8080/",
          "height": 178
        },
        "id": "GCfBMVtDE6YM",
        "outputId": "32c1ca65-5008-4f1a-ce56-530a8a5ef956"
      },
      "outputs": [
        {
          "output_type": "execute_result",
          "data": {
            "text/plain": [
              "Is Amazon Seller\n",
              "Y    9723\n",
              "N     279\n",
              "Name: count, dtype: int64"
            ],
            "text/html": [
              "<div>\n",
              "<style scoped>\n",
              "    .dataframe tbody tr th:only-of-type {\n",
              "        vertical-align: middle;\n",
              "    }\n",
              "\n",
              "    .dataframe tbody tr th {\n",
              "        vertical-align: top;\n",
              "    }\n",
              "\n",
              "    .dataframe thead th {\n",
              "        text-align: right;\n",
              "    }\n",
              "</style>\n",
              "<table border=\"1\" class=\"dataframe\">\n",
              "  <thead>\n",
              "    <tr style=\"text-align: right;\">\n",
              "      <th></th>\n",
              "      <th>count</th>\n",
              "    </tr>\n",
              "    <tr>\n",
              "      <th>Is Amazon Seller</th>\n",
              "      <th></th>\n",
              "    </tr>\n",
              "  </thead>\n",
              "  <tbody>\n",
              "    <tr>\n",
              "      <th>Y</th>\n",
              "      <td>9723</td>\n",
              "    </tr>\n",
              "    <tr>\n",
              "      <th>N</th>\n",
              "      <td>279</td>\n",
              "    </tr>\n",
              "  </tbody>\n",
              "</table>\n",
              "</div><br><label><b>dtype:</b> int64</label>"
            ]
          },
          "metadata": {},
          "execution_count": 7
        }
      ],
      "source": [
        "df['Is Amazon Seller'].value_counts()"
      ]
    },
    {
      "cell_type": "code",
      "execution_count": 8,
      "metadata": {
        "colab": {
          "base_uri": "https://localhost:8080/"
        },
        "id": "iQuJ3z-hFG1S",
        "outputId": "8419ba94-91bb-47a5-9c48-fe5529e8cc2c"
      },
      "outputs": [
        {
          "output_type": "execute_result",
          "data": {
            "text/plain": [
              "array(['DB Longboards CoreFlex Crossbow 41\" Bamboo Fiberglass Longboard Complete',\n",
              "       'Electronic Snap Circuits Mini Kits Classpack, FM Radio, Motion Detector, Music Box (Set of 5)',\n",
              "       \"3Doodler Create Flexy 3D Printing Filament Refill Bundle (X5 Pack, Over 1000'. of Extruded Plastics! - Innovate\",\n",
              "       'Guillow Airplane Design Studio with Travel Case Building Kit',\n",
              "       'Woodstock- Collage 500 pc Puzzle',\n",
              "       'Terra by Battat – 4 Dinosaur Toys, Medium – Dinosaurs for Kids & Collectors, Scientifically Accurate & Designed by A Paleo-Artist; Age 3+ (4 Pc)',\n",
              "       \"Rubie's Child's Pokemon Deluxe Pikachu Costume, X-Small\",\n",
              "       'Hoffmaster 120813 Double-Tipped Triangular Crayon, 88 mm Length, Wrapped (500 Packs of 2)',\n",
              "       'ARTSCAPE Etched Glass 24\" x 36\" Window Film, 24-by-36-Inch',\n",
              "       'Pokemon TCG: Sun and Moon Crimson Invasion Elite Trainer Box'],\n",
              "      dtype=object)"
            ]
          },
          "metadata": {},
          "execution_count": 8
        }
      ],
      "source": [
        "df['Product Name'].unique()[:10]"
      ]
    },
    {
      "cell_type": "code",
      "execution_count": 9,
      "metadata": {
        "colab": {
          "base_uri": "https://localhost:8080/"
        },
        "id": "QUUhSCglFdst",
        "outputId": "7bd74b4d-51a1-4c4c-e52e-d92d23486077"
      },
      "outputs": [
        {
          "output_type": "execute_result",
          "data": {
            "text/plain": [
              "array(['Sports & Outdoors | Outdoor Recreation | Skates, Skateboards & Scooters | Skateboarding | Standard Skateboards & Longboards | Longboards',\n",
              "       'Toys & Games | Learning & Education | Science Kits & Toys',\n",
              "       'Toys & Games | Arts & Crafts | Craft Kits',\n",
              "       'Toys & Games | Hobbies | Models & Model Kits | Model Kits | Airplane & Jet Kits',\n",
              "       'Toys & Games | Puzzles | Jigsaw Puzzles', nan,\n",
              "       'Clothing, Shoes & Jewelry | Costumes & Accessories | Kids & Baby | Girls | Costumes',\n",
              "       'Toys & Games | Arts & Crafts | Drawing & Painting Supplies | Crayons',\n",
              "       'Home & Kitchen | Home Décor | Window Treatments | Window Stickers & Films | Window Films',\n",
              "       'Toys & Games | Baby & Toddler Toys',\n",
              "       'Toys & Games | Collectible Toys | Statues, Bobbleheads & Busts | Statues',\n",
              "       'Baby Products | Nursery | Décor | Window Treatments | Valances',\n",
              "       'Toys & Games | Building Toys | Building Sets',\n",
              "       'Toys & Games | Baby & Toddler Toys | Musical Toys',\n",
              "       'Toys & Games | Learning & Education | Flash Cards',\n",
              "       \"Home & Kitchen | Furniture | Kids' Furniture | Tables & Chairs | Tables\",\n",
              "       'Toys & Games | Novelty & Gag Toys | Money Banks',\n",
              "       'Toys & Games | Sports & Outdoor Play | Slumber Bags',\n",
              "       'Toys & Games | Hobbies | Hobby Building Tools & Hardware | RC Linkages',\n",
              "       'Toys & Games | Party Supplies | Party Tableware | Plates'],\n",
              "      dtype=object)"
            ]
          },
          "metadata": {},
          "execution_count": 9
        }
      ],
      "source": [
        "df['Category'].unique()[:20]"
      ]
    },
    {
      "cell_type": "code",
      "execution_count": 10,
      "metadata": {
        "colab": {
          "base_uri": "https://localhost:8080/",
          "height": 241
        },
        "id": "cOIOsr7pF3tt",
        "outputId": "8f3aa9ae-7de6-4958-e6d5-587cae1d7de5"
      },
      "outputs": [
        {
          "output_type": "execute_result",
          "data": {
            "text/plain": [
              "0    $237.68\n",
              "1     $99.95\n",
              "2     $34.99\n",
              "3     $28.91\n",
              "4     $17.49\n",
              "Name: Selling Price, dtype: object"
            ],
            "text/html": [
              "<div>\n",
              "<style scoped>\n",
              "    .dataframe tbody tr th:only-of-type {\n",
              "        vertical-align: middle;\n",
              "    }\n",
              "\n",
              "    .dataframe tbody tr th {\n",
              "        vertical-align: top;\n",
              "    }\n",
              "\n",
              "    .dataframe thead th {\n",
              "        text-align: right;\n",
              "    }\n",
              "</style>\n",
              "<table border=\"1\" class=\"dataframe\">\n",
              "  <thead>\n",
              "    <tr style=\"text-align: right;\">\n",
              "      <th></th>\n",
              "      <th>Selling Price</th>\n",
              "    </tr>\n",
              "  </thead>\n",
              "  <tbody>\n",
              "    <tr>\n",
              "      <th>0</th>\n",
              "      <td>$237.68</td>\n",
              "    </tr>\n",
              "    <tr>\n",
              "      <th>1</th>\n",
              "      <td>$99.95</td>\n",
              "    </tr>\n",
              "    <tr>\n",
              "      <th>2</th>\n",
              "      <td>$34.99</td>\n",
              "    </tr>\n",
              "    <tr>\n",
              "      <th>3</th>\n",
              "      <td>$28.91</td>\n",
              "    </tr>\n",
              "    <tr>\n",
              "      <th>4</th>\n",
              "      <td>$17.49</td>\n",
              "    </tr>\n",
              "  </tbody>\n",
              "</table>\n",
              "</div><br><label><b>dtype:</b> object</label>"
            ]
          },
          "metadata": {},
          "execution_count": 10
        }
      ],
      "source": [
        "df['Selling Price'][:5]"
      ]
    },
    {
      "cell_type": "code",
      "execution_count": 11,
      "metadata": {
        "colab": {
          "base_uri": "https://localhost:8080/"
        },
        "id": "VD0TPOeIJzam",
        "outputId": "5bb71127-65f1-4b71-c75b-77e2cbe486ce"
      },
      "outputs": [
        {
          "output_type": "execute_result",
          "data": {
            "text/plain": [
              "array(['10.7 pounds', '4 pounds', '12.8 ounces', '13.4 ounces',\n",
              "       '1.4 pounds', '9.8 ounces', nan, '12.2 ounces', '1.5 pounds',\n",
              "       '3.2 ounces'], dtype=object)"
            ]
          },
          "metadata": {},
          "execution_count": 11
        }
      ],
      "source": [
        "df['Shipping Weight'].unique()[:10]"
      ]
    },
    {
      "cell_type": "code",
      "execution_count": 12,
      "metadata": {
        "colab": {
          "base_uri": "https://localhost:8080/"
        },
        "id": "ALO__zK3H47Q",
        "outputId": "4be4aa6a-293a-4301-bbd6-6d27842c4791"
      },
      "outputs": [
        {
          "output_type": "execute_result",
          "data": {
            "text/plain": [
              "array([nan,\n",
              "       'The snap circuits mini kits classpack provides basic electric circuitry information for students in grades 2-6. This classpack includes 5 snap-together building kits. Components snap together to create working models of everyday electronic devices. Kits included are an FM radio, a motion detector, a music box, space battle sound effects, and a flying saucer. Each mini kit comes with individual components, and an activity guide which includes instructions and additional project ideas. Each primary-colored component represents one function in a circuit. Activity kits are used by teachers and students in classroom and homeschool settings for educational and research applications in science, math, and for a variety of additional disciplines. Science education products and manipulatives incorporate applied math and science principles into classroom or homeschool projects. Teachers in pre-K, elementary, and secondary classrooms use science education kits, manipualtives, and products alongside science, technology, engineering, and math (STEM) curriculum to demonstrate STEM concepts and real-world applications through hands-on activities. Science education projects include a broad range of activities, such as practical experiments in engineering, aeronautics, robotics, chemistry, physics, biology, and geology.',\n",
              "       'show up to 2 reviews by default No longer are you bound by the rigid constraints of hard plastic! Our FLEXY line you can now squeeze, stretch, and twist your creations providing a truly dynamic Doodling experience. Do you want to take your creativity to new levels? Explore the wide variety of FLEXY plastic refill colors for your 3Doodler Create 3D pen! Flexy Plastics are compatible with the 3Doodler V.1, 2.0, and create 3D printing pens. Available in single & mixed color pack containing 25 strands each, and single colors tubes containing 100 strands. | 12.8 ounces (View shipping rates and policies)',\n",
              "       ...,\n",
              "       'show up to 2 reviews by default NewPath Learning standards-based science owls and owl pellets curriculum mastery flip chart set. Each curriculum mastery flip chart is mounted on a sturdy easel. 10 double-sided, laminated 18-inches length by 12-inches width charts. Side 1 features a colorful, graphic overview of the topic. Side 2 serves as a \"write-on/wipe-off\" activity chart featuring questions, labeling exercises, vocabulary review and more. Activity guide featuring blackline copymasters and exercises. Set Includes the following 10 charts: owls-birds of prey; the barn owl; owl food web; owl pellets; dissecting an owl pellet; rodent skeleton; vole skeleton; mole skeleton; shrew skeleton; bird skeleton. Grade 5 - 9. Academic standard: California, Florida, National, New York, Texas.',\n",
              "       'Disney Princess DIY Braid Set | 6.1 ounces (View shipping rates and policies)',\n",
              "       'Go to your orders and start the return Select the ship method Ship it! | Go to your orders and start the return Select the ship method Ship it! | Color:Orange Never hide it away. The luxe Luciano step stool transforms an ordinary household item into a slim, graceful work of art. Open size: W 22. 75\" X (platform top) H 42\" X d 38. 25\" (Safety bar top) H 59\" | 20.5 pounds (View shipping rates and policies)'],\n",
              "      dtype=object)"
            ]
          },
          "metadata": {},
          "execution_count": 12
        }
      ],
      "source": [
        "df['Technical Details'].unique()"
      ]
    },
    {
      "cell_type": "code",
      "execution_count": 13,
      "metadata": {
        "id": "1E7GljbMRAVO"
      },
      "outputs": [],
      "source": [
        "Selected_df= df[['Product Name','Category','Selling Price','Product Specification','Technical Details','Shipping Weight','Is Amazon Seller']]"
      ]
    },
    {
      "cell_type": "markdown",
      "metadata": {
        "id": "TYsXcY_9WbM4"
      },
      "source": [
        "#Handling the Selling price feature with median values"
      ]
    },
    {
      "cell_type": "code",
      "execution_count": 14,
      "metadata": {
        "id": "DtpCzbYlNb7i"
      },
      "outputs": [],
      "source": [
        "Selected_df.loc[:,'Selling Price'] =Selected_df['Selling Price'].astype('str').str.replace(r'[^\\d.]', '',regex=True)\n",
        "Selected_df.loc[:,'Selling Price']= pd.to_numeric(Selected_df['Selling Price'],errors='coerce')\n",
        "imputer= SimpleImputer(strategy='median')\n",
        "Selected_df.loc[:,'Selling Price']= imputer.fit_transform(Selected_df[['Selling Price']])\n"
      ]
    },
    {
      "cell_type": "code",
      "execution_count": 15,
      "metadata": {
        "colab": {
          "base_uri": "https://localhost:8080/",
          "height": 303
        },
        "id": "NPiuWYcmPn98",
        "outputId": "b71bca8b-9554-41b4-c251-5e0c7241c6fa"
      },
      "outputs": [
        {
          "output_type": "execute_result",
          "data": {
            "text/plain": [
              "Product Name                0\n",
              "Category                  830\n",
              "Selling Price               0\n",
              "Product Specification    1632\n",
              "Technical Details         790\n",
              "Shipping Weight          1138\n",
              "Is Amazon Seller            0\n",
              "dtype: int64"
            ],
            "text/html": [
              "<div>\n",
              "<style scoped>\n",
              "    .dataframe tbody tr th:only-of-type {\n",
              "        vertical-align: middle;\n",
              "    }\n",
              "\n",
              "    .dataframe tbody tr th {\n",
              "        vertical-align: top;\n",
              "    }\n",
              "\n",
              "    .dataframe thead th {\n",
              "        text-align: right;\n",
              "    }\n",
              "</style>\n",
              "<table border=\"1\" class=\"dataframe\">\n",
              "  <thead>\n",
              "    <tr style=\"text-align: right;\">\n",
              "      <th></th>\n",
              "      <th>0</th>\n",
              "    </tr>\n",
              "  </thead>\n",
              "  <tbody>\n",
              "    <tr>\n",
              "      <th>Product Name</th>\n",
              "      <td>0</td>\n",
              "    </tr>\n",
              "    <tr>\n",
              "      <th>Category</th>\n",
              "      <td>830</td>\n",
              "    </tr>\n",
              "    <tr>\n",
              "      <th>Selling Price</th>\n",
              "      <td>0</td>\n",
              "    </tr>\n",
              "    <tr>\n",
              "      <th>Product Specification</th>\n",
              "      <td>1632</td>\n",
              "    </tr>\n",
              "    <tr>\n",
              "      <th>Technical Details</th>\n",
              "      <td>790</td>\n",
              "    </tr>\n",
              "    <tr>\n",
              "      <th>Shipping Weight</th>\n",
              "      <td>1138</td>\n",
              "    </tr>\n",
              "    <tr>\n",
              "      <th>Is Amazon Seller</th>\n",
              "      <td>0</td>\n",
              "    </tr>\n",
              "  </tbody>\n",
              "</table>\n",
              "</div><br><label><b>dtype:</b> int64</label>"
            ]
          },
          "metadata": {},
          "execution_count": 15
        }
      ],
      "source": [
        "Selected_df.isna().sum()"
      ]
    },
    {
      "cell_type": "code",
      "execution_count": 16,
      "metadata": {
        "colab": {
          "base_uri": "https://localhost:8080/"
        },
        "id": "eadwouWYYbwn",
        "outputId": "26c4a380-72a9-4fc9-a6b6-a7aa4b68119b"
      },
      "outputs": [
        {
          "output_type": "stream",
          "name": "stderr",
          "text": [
            "<ipython-input-16-8ddb4edda5f3>:19: SettingWithCopyWarning: \n",
            "A value is trying to be set on a copy of a slice from a DataFrame.\n",
            "Try using .loc[row_indexer,col_indexer] = value instead\n",
            "\n",
            "See the caveats in the documentation: https://pandas.pydata.org/pandas-docs/stable/user_guide/indexing.html#returning-a-view-versus-a-copy\n",
            "  Selected_df['Shipping Weight'] = Selected_df['Shipping Weight'].apply(to_ounces)\n",
            "<ipython-input-16-8ddb4edda5f3>:23: SettingWithCopyWarning: \n",
            "A value is trying to be set on a copy of a slice from a DataFrame.\n",
            "Try using .loc[row_indexer,col_indexer] = value instead\n",
            "\n",
            "See the caveats in the documentation: https://pandas.pydata.org/pandas-docs/stable/user_guide/indexing.html#returning-a-view-versus-a-copy\n",
            "  Selected_df['Shipping Weight'] = imputer.fit_transform(Selected_df[['Shipping Weight']])\n"
          ]
        }
      ],
      "source": [
        "# Function to convert weight to ounces with additional checks\n",
        "def to_ounces(weight):\n",
        "    if pd.isna(weight):\n",
        "        return np.nan\n",
        "    weight_str = str(weight).strip().lower()\n",
        "\n",
        "\n",
        "    try:\n",
        "        if 'pounds' in weight_str:\n",
        "            return float(weight_str.split()[0]) * 16\n",
        "        elif 'ounces' in weight_str:\n",
        "            return float(weight_str.split()[0])\n",
        "        else:\n",
        "            return np.nan\n",
        "    except ValueError:\n",
        "        return np.nan\n",
        "\n",
        "# Apply the conversion to the 'Shipping Weight' column\n",
        "Selected_df['Shipping Weight'] = Selected_df['Shipping Weight'].apply(to_ounces)\n",
        "\n",
        "\n",
        "imputer = SimpleImputer(strategy='median')\n",
        "Selected_df['Shipping Weight'] = imputer.fit_transform(Selected_df[['Shipping Weight']])\n"
      ]
    },
    {
      "cell_type": "code",
      "execution_count": 17,
      "metadata": {
        "id": "H4Erloy7YNWw"
      },
      "outputs": [],
      "source": [
        "#Handling missing value\n",
        "Selected_df.loc[:,'Technical Details']= Selected_df['Technical Details'].fillna('No detail available')"
      ]
    },
    {
      "cell_type": "markdown",
      "metadata": {
        "id": "NbPHh20ZXOs-"
      },
      "source": [
        "#Handling categorical feature"
      ]
    },
    {
      "cell_type": "code",
      "source": [
        "#Droping missing value from category\n",
        "Selected_df = Selected_df.dropna(subset=['Category'])"
      ],
      "metadata": {
        "id": "9mrqG6QwOF1c"
      },
      "execution_count": 18,
      "outputs": []
    },
    {
      "cell_type": "code",
      "execution_count": 19,
      "metadata": {
        "id": "517_c1_NWUVW"
      },
      "outputs": [],
      "source": [
        "#Droping missing value from product specification\n",
        "Selected_df= Selected_df.dropna(subset=['Product Specification'])"
      ]
    },
    {
      "cell_type": "code",
      "execution_count": 20,
      "metadata": {
        "colab": {
          "base_uri": "https://localhost:8080/",
          "height": 322
        },
        "id": "gfH_1yDtXAhV",
        "outputId": "1a15d75a-0bf6-4a2c-fde9-b4e6b53e4a72"
      },
      "outputs": [
        {
          "output_type": "stream",
          "name": "stdout",
          "text": [
            "Cleaned features:\n"
          ]
        },
        {
          "output_type": "execute_result",
          "data": {
            "text/plain": [
              "Product Name             0\n",
              "Category                 0\n",
              "Selling Price            0\n",
              "Product Specification    0\n",
              "Technical Details        0\n",
              "Shipping Weight          0\n",
              "Is Amazon Seller         0\n",
              "dtype: int64"
            ],
            "text/html": [
              "<div>\n",
              "<style scoped>\n",
              "    .dataframe tbody tr th:only-of-type {\n",
              "        vertical-align: middle;\n",
              "    }\n",
              "\n",
              "    .dataframe tbody tr th {\n",
              "        vertical-align: top;\n",
              "    }\n",
              "\n",
              "    .dataframe thead th {\n",
              "        text-align: right;\n",
              "    }\n",
              "</style>\n",
              "<table border=\"1\" class=\"dataframe\">\n",
              "  <thead>\n",
              "    <tr style=\"text-align: right;\">\n",
              "      <th></th>\n",
              "      <th>0</th>\n",
              "    </tr>\n",
              "  </thead>\n",
              "  <tbody>\n",
              "    <tr>\n",
              "      <th>Product Name</th>\n",
              "      <td>0</td>\n",
              "    </tr>\n",
              "    <tr>\n",
              "      <th>Category</th>\n",
              "      <td>0</td>\n",
              "    </tr>\n",
              "    <tr>\n",
              "      <th>Selling Price</th>\n",
              "      <td>0</td>\n",
              "    </tr>\n",
              "    <tr>\n",
              "      <th>Product Specification</th>\n",
              "      <td>0</td>\n",
              "    </tr>\n",
              "    <tr>\n",
              "      <th>Technical Details</th>\n",
              "      <td>0</td>\n",
              "    </tr>\n",
              "    <tr>\n",
              "      <th>Shipping Weight</th>\n",
              "      <td>0</td>\n",
              "    </tr>\n",
              "    <tr>\n",
              "      <th>Is Amazon Seller</th>\n",
              "      <td>0</td>\n",
              "    </tr>\n",
              "  </tbody>\n",
              "</table>\n",
              "</div><br><label><b>dtype:</b> int64</label>"
            ]
          },
          "metadata": {},
          "execution_count": 20
        }
      ],
      "source": [
        "print('Cleaned features:')\n",
        "Selected_df.isna().sum()"
      ]
    }
  ],
  "metadata": {
    "colab": {
      "provenance": [],
      "mount_file_id": "1wnp85Ke4kbR3ZH29YWkMp2bMguNt4mqB",
      "authorship_tag": "ABX9TyNhm0RJJUNEzv0Q4rjnKZno",
      "include_colab_link": true
    },
    "kernelspec": {
      "display_name": "Python 3",
      "name": "python3"
    },
    "language_info": {
      "name": "python"
    }
  },
  "nbformat": 4,
  "nbformat_minor": 0
}